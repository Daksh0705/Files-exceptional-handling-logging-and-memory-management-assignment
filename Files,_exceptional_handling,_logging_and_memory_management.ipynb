{
  "nbformat": 4,
  "nbformat_minor": 0,
  "metadata": {
    "colab": {
      "provenance": []
    },
    "kernelspec": {
      "name": "python3",
      "display_name": "Python 3"
    },
    "language_info": {
      "name": "python"
    }
  },
  "cells": [
    {
      "cell_type": "code",
      "execution_count": null,
      "metadata": {
        "colab": {
          "base_uri": "https://localhost:8080/"
        },
        "id": "5-IExXiqdYiD",
        "outputId": "889d2ba6-1dca-45bf-b39f-1917dc41f61a"
      },
      "outputs": [
        {
          "output_type": "stream",
          "name": "stdout",
          "text": [
            "File written successfully.\n"
          ]
        }
      ],
      "source": [
        "#How can you open a file for writing in Python and write a string to it?\n",
        "'''To open a file for writing in Python, use the built-in open() function with the 'w' mode. This mode creates the file if it doesn't exist or overwrites it if it does. You can then use the write() method to write a string to the file.\n",
        "It's a good practice to use a with statement to ensure the file is properly closed after writing.'''\n",
        "\n",
        "with open(\"example.txt\", \"w\") as file:\n",
        "    file.write(\"Hello, world!\")\n",
        "print(\"File written successfully.\")\n"
      ]
    },
    {
      "cell_type": "code",
      "source": [
        "#Write a Python program to read the contents of a file and print each line\n",
        "with open(\"example.txt\", \"r\") as file:\n",
        "    for line in file:\n",
        "        print(line, end=\"\")\n"
      ],
      "metadata": {
        "colab": {
          "base_uri": "https://localhost:8080/"
        },
        "id": "sBcWfw9Me8om",
        "outputId": "252c2475-bbd8-479c-fc48-5d72a6cb0cb0"
      },
      "execution_count": null,
      "outputs": [
        {
          "output_type": "stream",
          "name": "stdout",
          "text": [
            "Hello, world!"
          ]
        }
      ]
    },
    {
      "cell_type": "code",
      "source": [
        "# How would you handle a case where the file doesn't exist while trying to open it for reading?\n",
        "try:\n",
        "    with open(\"example.txt\", \"r\") as file:\n",
        "        for line in file:\n",
        "            print(line, end=\"\")\n",
        "except FileNotFoundError:\n",
        "    print(\"The file does not exist.\")\n"
      ],
      "metadata": {
        "colab": {
          "base_uri": "https://localhost:8080/"
        },
        "id": "WhGTriyafPIZ",
        "outputId": "f6c519fa-2728-4883-8cc3-1e1301558897"
      },
      "execution_count": null,
      "outputs": [
        {
          "output_type": "stream",
          "name": "stdout",
          "text": [
            "Hello, world!"
          ]
        }
      ]
    },
    {
      "cell_type": "code",
      "source": [
        "#Write a Python script that reads from one file and writes its content to another file.\n",
        "# Read from source file and write to destination file\n",
        "# Read from 'example.txt' and write to 'copy_of_example.txt'\n",
        "try:\n",
        "    with open(\"example.txt\", \"r\") as source_file:\n",
        "        content = source_file.read()\n",
        "\n",
        "    with open(\"copy_of_example.txt\", \"w\") as destination_file:\n",
        "        destination_file.write(content)\n",
        "\n",
        "    print(\"Content copied from 'example.txt' to 'copy_of_example.txt' successfully.\")\n",
        "except FileNotFoundError:\n",
        "    print(\"The file 'example.txt' does not exist.\")\n",
        "\n",
        "\n"
      ],
      "metadata": {
        "colab": {
          "base_uri": "https://localhost:8080/"
        },
        "id": "CxjrXefSfecA",
        "outputId": "94edd23d-d2de-480c-accc-3fbdc36c06ec"
      },
      "execution_count": null,
      "outputs": [
        {
          "output_type": "stream",
          "name": "stdout",
          "text": [
            "Content copied from 'example.txt' to 'copy_of_example.txt' successfully.\n"
          ]
        }
      ]
    },
    {
      "cell_type": "code",
      "source": [
        "#How would you catch and handle division by zero error in Python?\n",
        "try:\n",
        "    result = 10 / 0\n",
        "except ZeroDivisionError:\n",
        "    print(\"Error: Division by zero is not allowed.\")\n",
        "\n",
        "\n"
      ],
      "metadata": {
        "colab": {
          "base_uri": "https://localhost:8080/"
        },
        "id": "Vi9W8Qc9gY9E",
        "outputId": "5f42c73d-48a5-42e5-ccd4-4fd0fb7ac3eb"
      },
      "execution_count": null,
      "outputs": [
        {
          "output_type": "stream",
          "name": "stdout",
          "text": [
            "Error: Division by zero is not allowed.\n"
          ]
        }
      ]
    },
    {
      "cell_type": "code",
      "source": [
        "#Write a Python program that logs an error message to a log file when a division by zero exception occur\n",
        "import logging\n",
        "\n",
        "# Set up logging configuration\n",
        "logging.basicConfig(filename=\"error_log.txt\", level=logging.ERROR, format=\"%(asctime)s - %(message)s\")\n",
        "\n",
        "try:\n",
        "    # Attempt division\n",
        "    numerator = 10\n",
        "    denominator = 0\n",
        "    result = numerator / denominator\n",
        "except ZeroDivisionError:\n",
        "    logging.error(\"Division by zero error occurred.\")\n",
        "    print(\"An error occurred. Check 'error_log.txt' for details.\")\n"
      ],
      "metadata": {
        "colab": {
          "base_uri": "https://localhost:8080/"
        },
        "id": "4wF07KWXwdsw",
        "outputId": "425c1288-a8c3-4838-a8a2-f6d792ac1161"
      },
      "execution_count": null,
      "outputs": [
        {
          "output_type": "stream",
          "name": "stderr",
          "text": [
            "ERROR:root:Division by zero error occurred.\n"
          ]
        },
        {
          "output_type": "stream",
          "name": "stdout",
          "text": [
            "An error occurred. Check 'error_log.txt' for details.\n"
          ]
        }
      ]
    },
    {
      "cell_type": "code",
      "source": [
        "#How do you log information at different levels (INFO, ERROR, WARNING) in Python using the logging module\n",
        "import logging\n",
        "\n",
        "# Remove any previous handlers in Colab\n",
        "for handler in logging.root.handlers[:]:\n",
        "    logging.root.removeHandler(handler)\n",
        "\n",
        "# Set up logging to show in the output AND write to a file\n",
        "logging.basicConfig(\n",
        "    level=logging.DEBUG,\n",
        "    format=\"%(asctime)s - %(levelname)s - %(message)s\"\n",
        ")\n",
        "\n",
        "# Log messages at different levels\n",
        "logging.debug(\"DEBUG: This is a debug message.\")\n",
        "logging.info(\"INFO: This is an info message.\")\n",
        "logging.warning(\"WARNING: This is a warning.\")\n",
        "logging.error(\"ERROR: This is an error.\")\n",
        "logging.critical(\"CRITICAL: This is critical.\")\n",
        "\n",
        "\n"
      ],
      "metadata": {
        "colab": {
          "base_uri": "https://localhost:8080/"
        },
        "id": "XfQrnVnTxRay",
        "outputId": "bee90cc5-92f3-4afd-866a-3285a0af8055"
      },
      "execution_count": null,
      "outputs": [
        {
          "output_type": "stream",
          "name": "stderr",
          "text": [
            "2025-04-16 04:13:29,102 - DEBUG - DEBUG: This is a debug message.\n",
            "2025-04-16 04:13:29,104 - INFO - INFO: This is an info message.\n",
            "2025-04-16 04:13:29,105 - WARNING - WARNING: This is a warning.\n",
            "2025-04-16 04:13:29,106 - ERROR - ERROR: This is an error.\n",
            "2025-04-16 04:13:29,107 - CRITICAL - CRITICAL: This is critical.\n"
          ]
        }
      ]
    },
    {
      "cell_type": "code",
      "source": [
        "#Write a program to handle a file opening error using exception handling\n",
        "try:\n",
        "    # Attempt to open a file that might not exist\n",
        "    with open(\"non_existent_file.txt\", \"r\") as file:\n",
        "        content = file.read()\n",
        "        print(content)\n",
        "except FileNotFoundError:\n",
        "    print(\"Error: The file could not be found.\")\n"
      ],
      "metadata": {
        "colab": {
          "base_uri": "https://localhost:8080/"
        },
        "id": "lbBVFsMRzX_C",
        "outputId": "b452d1fa-373e-4c01-c151-5d2f778f147f"
      },
      "execution_count": null,
      "outputs": [
        {
          "output_type": "stream",
          "name": "stdout",
          "text": [
            "Error: The file could not be found.\n"
          ]
        }
      ]
    },
    {
      "cell_type": "code",
      "source": [
        "#How can you read a file line by line and store its content in a list in Python\n",
        "# Step 1: Write to the file\n",
        "with open(\"example.txt\", \"w\") as file:\n",
        "    file.write(\"Hello\\n\")\n",
        "    file.write(\"World\\n\")\n",
        "    file.write(\"Python\\n\")\n",
        "\n",
        "# Step 2: Read from the file and store lines in a list\n",
        "lines = []\n",
        "with open(\"example.txt\", \"r\") as file:\n",
        "    for line in file:\n",
        "        lines.append(line.strip())  # Remove newline characters\n",
        "\n",
        "# Step 3: Print the list of lines\n",
        "print(\"Lines read from file:\")\n",
        "print(lines)\n"
      ],
      "metadata": {
        "colab": {
          "base_uri": "https://localhost:8080/"
        },
        "id": "tO6P6mIAzppf",
        "outputId": "8e6d5a86-6bdb-4b4b-96ab-4dd3c2752fe0"
      },
      "execution_count": null,
      "outputs": [
        {
          "output_type": "stream",
          "name": "stdout",
          "text": [
            "Lines read from file:\n",
            "['Hello', 'World', 'Python']\n"
          ]
        }
      ]
    },
    {
      "cell_type": "code",
      "source": [
        "# How can you append data to an existing file in Python\n",
        "# Step 1: Create or write initial content to the file (only once)\n",
        "with open(\"example.txt\", \"w\") as file:\n",
        "    file.write(\"Hello\\n\")\n",
        "    file.write(\"World\\n\")\n",
        "    file.write(\"Python\\n\")\n",
        "\n",
        "print(\"Initial content written to 'example.txt'.\")\n",
        "\n",
        "# Step 2: Append new content to the existing file\n",
        "with open(\"example.txt\", \"a\") as file:\n",
        "    file.write(\"This is an appended line.\\n\")\n",
        "    file.write(\"Another appended line.\\n\")\n",
        "\n",
        "print(\"New lines appended to 'example.txt'.\")\n",
        "\n",
        "# Step 3: Read the file to confirm all content\n",
        "print(\"\\nFinal content of 'example.txt':\")\n",
        "with open(\"example.txt\", \"r\") as file:\n",
        "    for line in file:\n",
        "        print(line.strip())  # strip() removes the newline character for cleaner output\n"
      ],
      "metadata": {
        "colab": {
          "base_uri": "https://localhost:8080/"
        },
        "id": "t7VntmlazqH_",
        "outputId": "9668a031-761a-4048-ad7e-49ec610e6d67"
      },
      "execution_count": null,
      "outputs": [
        {
          "output_type": "stream",
          "name": "stdout",
          "text": [
            "Initial content written to 'example.txt'.\n",
            "New lines appended to 'example.txt'.\n",
            "\n",
            "Final content of 'example.txt':\n",
            "Hello\n",
            "World\n",
            "Python\n",
            "This is an appended line.\n",
            "Another appended line.\n"
          ]
        }
      ]
    },
    {
      "cell_type": "code",
      "source": [
        "#Write a Python program that uses a try-except block to handle an error when attempting to access a\n",
        "#dictionary key that doesn't exist\n",
        "# Step 1: Create a dictionary with some data\n",
        "# This dictionary stores basic information about a person\n",
        "person = {\n",
        "    \"name\": \"daksh\",\n",
        "    \"age\": 20\n",
        "}\n",
        "\n",
        "# Step 2: Try to access values by key\n",
        "# We will use a try-except block to safely handle missing keys\n",
        "\n",
        "try:\n",
        "    # This key exists, so it will work fine\n",
        "    print(\"Name:\", person[\"name\"])\n",
        "\n",
        "    # This key does NOT exist, so it will raise a KeyError\n",
        "    print(\"City:\", person[\"city\"])\n",
        "\n",
        "except KeyError as error:\n",
        "    # This block runs when a key is not found in the dictionary\n",
        "    # 'error' holds the missing key name\n",
        "    print(f\"\\nOops! The key '{error}' does not exist in the dictionary.\")\n",
        "    print(\"Tip: Use .get() to avoid errors or check keys before accessing them.\")\n"
      ],
      "metadata": {
        "colab": {
          "base_uri": "https://localhost:8080/"
        },
        "id": "3oB5QtMf0KKL",
        "outputId": "c2fd30f5-5011-4334-8fc2-922ba6d2d667"
      },
      "execution_count": null,
      "outputs": [
        {
          "output_type": "stream",
          "name": "stdout",
          "text": [
            "Name: daksh\n",
            "\n",
            "Oops! The key ''city'' does not exist in the dictionary.\n",
            "Tip: Use .get() to avoid errors or check keys before accessing them.\n"
          ]
        }
      ]
    },
    {
      "cell_type": "code",
      "source": [
        "#Write a program that demonstrates using multiple except blocks to handle different types of exceptions\n",
        "# Step 1: Define a dictionary to simulate data access\n",
        "data = {\n",
        "    \"number\": 100\n",
        "}\n",
        "\n",
        "try:\n",
        "    # Step 2: Try to get a number from the user and convert it to an integer\n",
        "    user_input = input(\"Enter a number to divide 100 by: \")\n",
        "    number = int(user_input)  # May raise ValueError if input is not a number\n",
        "\n",
        "    # Step 3: Perform division (could raise ZeroDivisionError)\n",
        "    result = data[\"number\"] / number\n",
        "    print(\"Result of division:\", result)\n",
        "\n",
        "    # Step 4: Try accessing a dictionary key (may raise KeyError)\n",
        "    print(\"Accessing non-existent key:\", data[\"unknown\"])\n",
        "\n",
        "# Step 5: Handle ValueError when input is not an integer\n",
        "except ValueError:\n",
        "    print(\"Error: Please enter a valid integer.\")\n",
        "\n",
        "# Step 6: Handle ZeroDivisionError when dividing by zero\n",
        "except ZeroDivisionError:\n",
        "    print(\"Error: Division by zero is not allowed.\")\n",
        "\n",
        "# Step 7: Handle KeyError when a dictionary key is missing\n",
        "except KeyError as e:\n",
        "    print(f\"Error: The key '{e}' was not found in the dictionary.\")\n",
        "\n",
        "# Optional: A final message\n",
        "print(\"Program finished.\")\n"
      ],
      "metadata": {
        "colab": {
          "base_uri": "https://localhost:8080/"
        },
        "id": "4BgrhEc600Hb",
        "outputId": "f3e22477-0f83-43ef-f357-12d925ed7726"
      },
      "execution_count": null,
      "outputs": [
        {
          "output_type": "stream",
          "name": "stdout",
          "text": [
            "Enter a number to divide 100 by: 2005\n",
            "Result of division: 0.04987531172069826\n",
            "Error: The key ''unknown'' was not found in the dictionary.\n",
            "Program finished.\n"
          ]
        }
      ]
    },
    {
      "cell_type": "code",
      "source": [
        "#How would you check if a file exists before attempting to read it in Python?\n",
        "from pathlib import Path\n",
        "\n",
        "file_path = Path(\"example.txt\")\n",
        "\n",
        "if file_path.exists():\n",
        "    with file_path.open(\"r\") as file:\n",
        "        content = file.read()\n",
        "        print(\"File content:\\n\", content)\n",
        "else:\n",
        "    print(\"File does not exist.\")\n"
      ],
      "metadata": {
        "colab": {
          "base_uri": "https://localhost:8080/"
        },
        "id": "LcT0A2a71GWl",
        "outputId": "89192e46-cd63-4902-fde0-b1db9a589d60"
      },
      "execution_count": null,
      "outputs": [
        {
          "output_type": "stream",
          "name": "stdout",
          "text": [
            "File content:\n",
            " Hello\n",
            "World\n",
            "Python\n",
            "This is an appended line.\n",
            "Another appended line.\n",
            "\n"
          ]
        }
      ]
    },
    {
      "cell_type": "code",
      "source": [
        "#Write a program that uses the logging module to log both informational and error messages\n",
        "import logging\n",
        "\n",
        "# Step 1: Configure the logging settings\n",
        "logging.basicConfig(\n",
        "    filename='app.log',          # Log file name\n",
        "    level=logging.INFO,          # Minimum level to log\n",
        "    format='%(asctime)s - %(levelname)s - %(message)s'\n",
        ")\n",
        "\n",
        "# Step 2: Log an informational message\n",
        "logging.info(\"Program started successfully.\")\n",
        "\n",
        "# Step 3: Simulate a process\n",
        "try:\n",
        "    num1 = 10\n",
        "    num2 = 0  # This will cause an error\n",
        "    result = num1 / num2\n",
        "    logging.info(f\"Result of division: {result}\")\n",
        "except ZeroDivisionError as e:\n",
        "    logging.error(f\"Division by zero error: {e}\")\n",
        "\n",
        "# Step 4: Log a final message\n",
        "logging.info(\"Program finished.\")\n"
      ],
      "metadata": {
        "colab": {
          "base_uri": "https://localhost:8080/"
        },
        "id": "pU-T2qWg1cKp",
        "outputId": "c1401f04-b28a-4ad5-f620-79f0c25eadd8"
      },
      "execution_count": null,
      "outputs": [
        {
          "output_type": "stream",
          "name": "stderr",
          "text": [
            "ERROR:root:Division by zero error: division by zero\n"
          ]
        }
      ]
    },
    {
      "cell_type": "code",
      "source": [
        "#Write a Python program that prints the content of a file and handles the case when the file is empty.\n",
        "# Step 1: Specify the file path\n",
        "file_path = \"example.txt\"\n",
        "\n",
        "# Step 2: Try opening and reading the file\n",
        "try:\n",
        "    with open(file_path, \"r\") as file:\n",
        "        content = file.read()  # Read all the content of the file\n",
        "\n",
        "        # Step 3: Check if the file is empty\n",
        "        if not content:\n",
        "            print(\"The file is empty.\")\n",
        "        else:\n",
        "            print(\"File content:\\n\")\n",
        "            print(content)\n",
        "\n",
        "# Step 4: Handle the case where the file doesn't exist\n",
        "except FileNotFoundError:\n",
        "    print(f\"Error: The file '{file_path}' does not exist.\")\n"
      ],
      "metadata": {
        "colab": {
          "base_uri": "https://localhost:8080/"
        },
        "id": "Pbowas2h1rra",
        "outputId": "d05a8190-ebae-4dd3-8c08-4bc9e2bc2a86"
      },
      "execution_count": null,
      "outputs": [
        {
          "output_type": "stream",
          "name": "stdout",
          "text": [
            "File content:\n",
            "\n",
            "Hello\n",
            "World\n",
            "Python\n",
            "This is an appended line.\n",
            "Another appended line.\n",
            "\n"
          ]
        }
      ]
    },
    {
      "cell_type": "code",
      "source": [
        "#Demonstrate how to use memory profiling to check the memory usage of a small program.\n",
        "!pip install psutil\n",
        "import psutil\n",
        "\n",
        "# Function to display memory usage\n",
        "def memory_usage():\n",
        "    # Get memory details\n",
        "    memory_info = psutil.virtual_memory()\n",
        "    print(f\"Total memory: {memory_info.total / (1024 ** 3):.2f} GB\")\n",
        "    print(f\"Used memory: {memory_info.used / (1024 ** 3):.2f} GB\")\n",
        "    print(f\"Free memory: {memory_info.available / (1024 ** 3):.2f} GB\")\n",
        "    print(f\"Memory percent usage: {memory_info.percent}%\")\n",
        "\n",
        "# Call the function to display memory usage\n",
        "memory_usage()\n",
        "\n"
      ],
      "metadata": {
        "colab": {
          "base_uri": "https://localhost:8080/"
        },
        "id": "JYQWoZjT179f",
        "outputId": "f87771bd-6e3e-435d-8ab9-c87fbb0eb0a4"
      },
      "execution_count": null,
      "outputs": [
        {
          "output_type": "stream",
          "name": "stdout",
          "text": [
            "Requirement already satisfied: psutil in /usr/local/lib/python3.11/dist-packages (5.9.5)\n",
            "Total memory: 12.67 GB\n",
            "Used memory: 0.64 GB\n",
            "Free memory: 11.76 GB\n",
            "Memory percent usage: 7.3%\n"
          ]
        }
      ]
    },
    {
      "cell_type": "code",
      "source": [
        "#Write a Python program to create and write a list of numbers to a file, one number per line.\n",
        "# Function to write a list of numbers to a file, one number per line\n",
        "def write_numbers_to_file(numbers, filename=\"numbers.txt\"):\n",
        "    try:\n",
        "        # Step 1: Open the file in write mode\n",
        "        with open(filename, \"w\") as file:\n",
        "            # Step 2: Loop through the list of numbers and write each one to the file\n",
        "            for number in numbers:\n",
        "                file.write(f\"{number}\\n\")  # Write number followed by a newline\n",
        "\n",
        "        # Step 3: Inform the user that the numbers have been written successfully\n",
        "        print(f\"Numbers have been written to '{filename}'\")\n",
        "\n",
        "    except Exception as e:\n",
        "        # Step 4: Handle any potential errors, e.g., if the file cannot be opened\n",
        "        print(f\"An error occurred: {e}\")\n",
        "\n",
        "# Example list of numbers to be written to the file\n",
        "numbers = [1, 2, 3, 4, 5, 6, 7, 8, 9, 10]\n",
        "\n",
        "# Call the function to write numbers to the file\n",
        "write_numbers_to_file(numbers)\n",
        "\n",
        "# Read and print the contents of the file to verify\n",
        "with open(\"numbers.txt\", \"r\") as file:\n",
        "    content = file.read()\n",
        "    print(\"File contents:\\n\", content)\n",
        "\n"
      ],
      "metadata": {
        "colab": {
          "base_uri": "https://localhost:8080/"
        },
        "id": "DcHmUqo-3Vtq",
        "outputId": "f3198195-aa7f-4310-8a9d-f6499781b512"
      },
      "execution_count": null,
      "outputs": [
        {
          "output_type": "stream",
          "name": "stdout",
          "text": [
            "Numbers have been written to 'numbers.txt'\n",
            "File contents:\n",
            " 1\n",
            "2\n",
            "3\n",
            "4\n",
            "5\n",
            "6\n",
            "7\n",
            "8\n",
            "9\n",
            "10\n",
            "\n"
          ]
        }
      ]
    },
    {
      "cell_type": "code",
      "source": [
        "#How would you implement a basic logging setup that logs to a file with rotation after 1MB?\n",
        "import logging\n",
        "from logging.handlers import RotatingFileHandler\n",
        "\n",
        "# Create a logger\n",
        "logger = logging.getLogger(\"my_logger\")\n",
        "\n",
        "# Set the logging level\n",
        "logger.setLevel(logging.INFO)\n",
        "\n",
        "# Create a rotating file handler\n",
        "handler = RotatingFileHandler('app.log', maxBytes=1e6, backupCount=3)  # 1MB file size, 3 backup files\n",
        "\n",
        "# Set the log format\n",
        "formatter = logging.Formatter('%(asctime)s - %(levelname)s - %(message)s')\n",
        "handler.setFormatter(formatter)\n",
        "\n",
        "# Add the handler to the logger\n",
        "logger.addHandler(handler)\n",
        "\n",
        "# Example log messages\n",
        "logger.info(\"This is an info message.\")\n",
        "logger.warning(\"This is a warning message.\")\n",
        "logger.error(\"This is an error message.\")\n",
        "\n",
        "# You can continue logging, and the file will rotate when it exceeds 1MB.\n",
        "\n",
        "\n"
      ],
      "metadata": {
        "colab": {
          "base_uri": "https://localhost:8080/"
        },
        "id": "KDW28LR-4Ka-",
        "outputId": "361a5bba-c2e7-4eb3-e4f0-570571b04581"
      },
      "execution_count": null,
      "outputs": [
        {
          "output_type": "stream",
          "name": "stderr",
          "text": [
            "INFO:my_logger:This is an info message.\n",
            "INFO:my_logger:This is an info message.\n",
            "WARNING:my_logger:This is a warning message.\n",
            "WARNING:my_logger:This is a warning message.\n",
            "ERROR:my_logger:This is an error message.\n",
            "ERROR:my_logger:This is an error message.\n"
          ]
        }
      ]
    },
    {
      "cell_type": "code",
      "source": [
        "#Write a program that handles both IndexError and KeyError using a try-except block.\n",
        "# Example data for demonstration\n",
        "my_list = [1, 2, 3]\n",
        "my_dict = {\"name\": \"Alice\", \"age\": 30}\n",
        "\n",
        "try:\n",
        "    # Attempting to access an index that doesn't exist in the list\n",
        "    print(my_list[5])  # This will raise IndexError\n",
        "\n",
        "    # Attempting to access a key that doesn't exist in the dictionary\n",
        "    print(my_dict[\"city\"])  # This will raise KeyError\n",
        "\n",
        "except IndexError as e:\n",
        "    print(f\"IndexError occurred: {e}\")\n",
        "\n",
        "except KeyError as e:\n",
        "    print(f\"KeyError occurred: {e}\")\n",
        "\n",
        "print(\"Program execution continues after handling the error.\")\n"
      ],
      "metadata": {
        "colab": {
          "base_uri": "https://localhost:8080/"
        },
        "id": "hfpf-_7U6Rj_",
        "outputId": "62bbfa8f-8dcd-4d42-c19e-5f978902f1a7"
      },
      "execution_count": null,
      "outputs": [
        {
          "output_type": "stream",
          "name": "stdout",
          "text": [
            "IndexError occurred: list index out of range\n",
            "Program execution continues after handling the error.\n"
          ]
        }
      ]
    },
    {
      "cell_type": "code",
      "source": [
        "#How would you open a file and read its contents using a context manager in Python\n",
        "\n",
        "# Open the file and read its contents using a context manager\n",
        "with open(\"example.txt\", \"r\") as file:\n",
        "    content = file.read()  # Read the entire content of the file\n",
        "\n",
        "# Print the content of the file\n",
        "print(content)\n"
      ],
      "metadata": {
        "colab": {
          "base_uri": "https://localhost:8080/"
        },
        "id": "Tcf0bkqG6gkc",
        "outputId": "7cb6d00a-4b62-4612-b244-4f5766f663b5"
      },
      "execution_count": null,
      "outputs": [
        {
          "output_type": "stream",
          "name": "stdout",
          "text": [
            "Hello\n",
            "World\n",
            "Python\n",
            "This is an appended line.\n",
            "Another appended line.\n",
            "\n"
          ]
        }
      ]
    },
    {
      "cell_type": "code",
      "source": [
        "#Write a Python program that reads a file and prints the number of occurrences of a specific word.\n",
        "# Specify the word to search for\n",
        "word_to_find = \"Python\"\n",
        "\n",
        "# Open the file and read its content\n",
        "try:\n",
        "    with open(\"example.txt\", \"r\") as file:\n",
        "        content = file.read()  # Read the entire content of the file\n",
        "\n",
        "    # Count the occurrences of the specified word\n",
        "    word_count = content.lower().split().count(word_to_find.lower())  # Case-insensitive count\n",
        "\n",
        "    # Print the number of occurrences\n",
        "    print(f\"The word '{word_to_find}' appears {word_count} times in the file.\")\n",
        "\n",
        "except FileNotFoundError:\n",
        "    print(\"Error: The file 'example.txt' does not exist.\")\n"
      ],
      "metadata": {
        "colab": {
          "base_uri": "https://localhost:8080/"
        },
        "id": "sxUvhBFq63XA",
        "outputId": "3c9a7d0c-8d12-4368-94dc-511e8efecead"
      },
      "execution_count": null,
      "outputs": [
        {
          "output_type": "stream",
          "name": "stdout",
          "text": [
            "The word 'Python' appears 1 times in the file.\n"
          ]
        }
      ]
    },
    {
      "cell_type": "code",
      "source": [
        "#How can you check if a file is empty before attempting to read its contents?\n",
        "import os\n",
        "\n",
        "file_path = \"example.txt\"\n",
        "\n",
        "# Check if the file exists and is not empty\n",
        "if os.path.exists(file_path) and os.path.getsize(file_path) > 0:\n",
        "    with open(file_path, \"r\") as file:\n",
        "        content = file.read()\n",
        "        print(\"File content:\")\n",
        "        print(content)\n",
        "else:\n",
        "    print(f\"The file '{file_path}' is empty or does not exist.\")\n"
      ],
      "metadata": {
        "colab": {
          "base_uri": "https://localhost:8080/"
        },
        "id": "dOmrvSIq7O2I",
        "outputId": "d8435ece-b2a8-4fd6-e6a9-b0a749c53eb7"
      },
      "execution_count": null,
      "outputs": [
        {
          "output_type": "stream",
          "name": "stdout",
          "text": [
            "File content:\n",
            "Hello\n",
            "World\n",
            "Python\n",
            "This is an appended line.\n",
            "Another appended line.\n",
            "\n"
          ]
        }
      ]
    },
    {
      "cell_type": "code",
      "source": [
        "#Write a Python program that writes to a log file when an error occurs during file handling.\n",
        "import logging\n",
        "\n",
        "# Set up logging to log to a file with error level\n",
        "logging.basicConfig(filename=\"file_handling_error_log.txt\",\n",
        "                    level=logging.ERROR,\n",
        "                    format=\"%(asctime)s - %(levelname)s - %(message)s\")\n",
        "\n",
        "def read_file(file_path):\n",
        "    try:\n",
        "        # Try to open the file in read mode\n",
        "        with open(file_path, \"r\") as file:\n",
        "            content = file.read()\n",
        "            print(content)  # Print the content if the file is read successfully\n",
        "    except FileNotFoundError as e:\n",
        "        # Log the error to the log file\n",
        "        logging.error(f\"FileNotFoundError: {e}\")\n",
        "        print(f\"An error occurred. Check 'file_handling_error_log.txt' for details.\")\n",
        "\n",
        "# Call the function with a non-existent file\n",
        "read_file(\"non_existent_file.txt\")\n"
      ],
      "metadata": {
        "colab": {
          "base_uri": "https://localhost:8080/"
        },
        "id": "tkN3pqB17aBY",
        "outputId": "af34ba8e-7ed1-4c0f-bc26-c86be281d306"
      },
      "execution_count": null,
      "outputs": [
        {
          "output_type": "stream",
          "name": "stderr",
          "text": [
            "ERROR:root:FileNotFoundError: [Errno 2] No such file or directory: 'non_existent_file.txt'\n"
          ]
        },
        {
          "output_type": "stream",
          "name": "stdout",
          "text": [
            "An error occurred. Check 'file_handling_error_log.txt' for details.\n"
          ]
        }
      ]
    }
  ]
}